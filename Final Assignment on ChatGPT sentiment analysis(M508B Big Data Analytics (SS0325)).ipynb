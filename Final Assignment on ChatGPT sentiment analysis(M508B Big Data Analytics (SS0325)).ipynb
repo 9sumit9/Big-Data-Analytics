{
 "cells": [
  {
   "cell_type": "markdown",
   "id": "047eae08-4d13-4f55-9d79-dd9a96f4700e",
   "metadata": {},
   "source": [
    "### Sentiment Analysis of ChatGPT"
   ]
  },
  {
   "cell_type": "markdown",
   "id": "6384c0b0-5956-4aae-9ad1-4e2d77972ca6",
   "metadata": {},
   "source": [
    "Name: Sumit Kumar Sangroula \n"
   ]
  },
  {
   "cell_type": "markdown",
   "id": "8b4c3680-4913-4fa2-86ec-468267fa0d2c",
   "metadata": {},
   "source": [
    "### Context"
   ]
  },
  {
   "cell_type": "markdown",
   "id": "1bf4964b-6785-4192-bfe4-2d40f199fcf9",
   "metadata": {},
   "source": [
    "The use of computers and its applications have been on the rise since its inception. Several robust AI tools have been developed to solve complex promblems within a matter of seconds and guide the users to achieve their goals. These AI tools works on the basis of user-inputs. Medical Science, Scientific Research and Investigation, Intelligence, Education, Entertainment and Financial Industry, Security and Sports are some of its widely applied fields. With good features come negative impacts as well. People have stopped being critical and rely on the outputs of AI. Although, the aim of application of these tools is to solve complex problems in real world scenario, the over use of these tools have diminished human intelligence and ability to solve the problems. \n",
    "\n",
    "One such tool which has overpowered human intelligence is ChatGPT developed by OpenAI. It was first launched in November 2022. It can normally answer all the human queries in a textual form since it adapts Large Language Model and are highly trained using Neural Network algorithms.\n",
    "\n",
    "As a data scientist, my goal will be to properly analyze the user feedbacks and reviews of the platform, help build a robust system by improving the performance of the tool and implementing user demands, and enhance the overall usability of the platform to attract more users.\n",
    "\n",
    "For this, I will help build a NLP pipeline to gain higher positive customer feedbacks and ratings by removing the features unwanted by the users, highly focusing on user demands to maximize user experience."
   ]
  },
  {
   "cell_type": "markdown",
   "id": "465c5bdd-3483-4aed-8b72-80a7f7b0ca1f",
   "metadata": {},
   "source": [
    "#### Data Source"
   ]
  },
  {
   "cell_type": "markdown",
   "id": "a267110d-fed6-4ca7-923b-79f004d5f02a",
   "metadata": {},
   "source": [
    "For this project, we are sourcing the data from https://www.kaggle.com/datasets/charunisa/chatgpt-sentiment-analysis?select=file.csv\n",
    "\n",
    "* Dataset name: ChatGPT sentiment analysis\n",
    "* Format: CSV\n",
    "* No. of Columns: 3\n",
    "* No. of Records: 219294"
   ]
  },
  {
   "cell_type": "markdown",
   "id": "b5eda743-e31e-43b7-8e5b-c4e54541b5f8",
   "metadata": {},
   "source": [
    "### Importing necessary libraries"
   ]
  },
  {
   "cell_type": "code",
   "execution_count": 60,
   "id": "711d6f95-4e9b-4b68-82b0-212daf143c88",
   "metadata": {},
   "outputs": [],
   "source": [
    "import pandas as pd #for data manipulation and analysis\n",
    "import matplotlib.pyplot as plt #for data visualization\n",
    "import seaborn as sns #for data visualization\n",
    "import string #for character manipulation\n",
    "import nltk #natural language tool kit for sentence and word processing\n",
    "from nltk.tokenize import word_tokenize #to tokenize the words from the text\n",
    "from collections import Counter #to count the words\n",
    "from nltk.corpus import opinion_lexicon, stopwords #to check expressive words in the dataset\n",
    "from sklearn.model_selection import train_test_split #to train, test and split the data\n",
    "from sklearn.feature_extraction.text import TfidfVectorizer #to evaluate word relevance in the data\n",
    "import numpy as npy #for number processing\n",
    "from imblearn.over_sampling import SMOTE #to balance the imbalance dataset\n",
    "from sklearn.tree import DecisionTreeClassifier #supervised learning model\n",
    "from sklearn.ensemble import RandomForestClassifier, GradientBoostingClassifier #supervised learning model\n",
    "from sklearn.metrics import classification_report, accuracy_score, precision_score, recall_score, f1_score #evaluation metrics\n",
    "from sklearn.model_selection import RandomizedSearchCV #to tune the hyperparameters\n",
    "from sklearn.model_selection import StratifiedKFold #to implement Cross Validation\n",
    "from sklearn.linear_model import LogisticRegression #supervised learning model\n",
    "from sklearn.model_selection import GridSearchCV  #to tune the hyperparameters\n",
    "import warnings #to ignore the warnings \n",
    "warnings.filterwarnings('ignore')\n"
   ]
  },
  {
   "cell_type": "markdown",
   "id": "0dd55641-3bc5-4476-b70d-e7ac45383b09",
   "metadata": {},
   "source": [
    "##### Importing the data from our local source which was downloaded from Kaggle."
   ]
  },
  {
   "cell_type": "code",
   "execution_count": 2,
   "id": "6f16d8d2-29f8-4dbf-8f9a-2fc7a7ca70a1",
   "metadata": {},
   "outputs": [],
   "source": [
    "file_src = \"C:/Users/Acer/Desktop/dataset for big data analytics/file.csv\" #source of the data\n",
    "dtf = pd.read_csv(file_src ) #Reading the data from the source"
   ]
  },
  {
   "cell_type": "markdown",
   "id": "28fda0af-0a50-47b8-8cd9-9574c492b511",
   "metadata": {},
   "source": [
    "### Data Exploration"
   ]
  },
  {
   "cell_type": "code",
   "execution_count": 3,
   "id": "c8b67556-3ddb-486f-b5fc-c5202c7c399b",
   "metadata": {},
   "outputs": [
    {
     "data": {
      "text/html": [
       "<div>\n",
       "<style scoped>\n",
       "    .dataframe tbody tr th:only-of-type {\n",
       "        vertical-align: middle;\n",
       "    }\n",
       "\n",
       "    .dataframe tbody tr th {\n",
       "        vertical-align: top;\n",
       "    }\n",
       "\n",
       "    .dataframe thead th {\n",
       "        text-align: right;\n",
       "    }\n",
       "</style>\n",
       "<table border=\"1\" class=\"dataframe\">\n",
       "  <thead>\n",
       "    <tr style=\"text-align: right;\">\n",
       "      <th></th>\n",
       "      <th>Unnamed: 0</th>\n",
       "      <th>tweets</th>\n",
       "      <th>labels</th>\n",
       "    </tr>\n",
       "  </thead>\n",
       "  <tbody>\n",
       "    <tr>\n",
       "      <th>0</th>\n",
       "      <td>0</td>\n",
       "      <td>ChatGPT: Optimizing Language Models for Dialog...</td>\n",
       "      <td>neutral</td>\n",
       "    </tr>\n",
       "    <tr>\n",
       "      <th>1</th>\n",
       "      <td>1</td>\n",
       "      <td>Try talking with ChatGPT, our new AI system wh...</td>\n",
       "      <td>good</td>\n",
       "    </tr>\n",
       "    <tr>\n",
       "      <th>2</th>\n",
       "      <td>2</td>\n",
       "      <td>ChatGPT: Optimizing Language Models for Dialog...</td>\n",
       "      <td>neutral</td>\n",
       "    </tr>\n",
       "    <tr>\n",
       "      <th>3</th>\n",
       "      <td>3</td>\n",
       "      <td>THRILLED to share that ChatGPT, our new model ...</td>\n",
       "      <td>good</td>\n",
       "    </tr>\n",
       "    <tr>\n",
       "      <th>4</th>\n",
       "      <td>4</td>\n",
       "      <td>As of 2 minutes ago, @OpenAI released their ne...</td>\n",
       "      <td>bad</td>\n",
       "    </tr>\n",
       "  </tbody>\n",
       "</table>\n",
       "</div>"
      ],
      "text/plain": [
       "   Unnamed: 0                                             tweets   labels\n",
       "0           0  ChatGPT: Optimizing Language Models for Dialog...  neutral\n",
       "1           1  Try talking with ChatGPT, our new AI system wh...     good\n",
       "2           2  ChatGPT: Optimizing Language Models for Dialog...  neutral\n",
       "3           3  THRILLED to share that ChatGPT, our new model ...     good\n",
       "4           4  As of 2 minutes ago, @OpenAI released their ne...      bad"
      ]
     },
     "execution_count": 3,
     "metadata": {},
     "output_type": "execute_result"
    }
   ],
   "source": [
    "dtf.head(5) #Displaying the first 5 rows"
   ]
  },
  {
   "cell_type": "markdown",
   "id": "cad7d592-c40e-4d5f-a710-6b8c92437fb0",
   "metadata": {},
   "source": [
    "Our focus will be on the tweets and the reviews provided by the users to make sentiment analysis of ChatGPT. The 'tweets' column includes users' opinions while the 'labels' column indicate the user experiences of how they perceive ChatGPT. Both these columns are object types."
   ]
  },
  {
   "cell_type": "markdown",
   "id": "14112ce2-8188-41e6-aefa-621855ee60cc",
   "metadata": {},
   "source": [
    "#### Checking for Null values"
   ]
  },
  {
   "cell_type": "code",
   "execution_count": 56,
   "id": "52eea590-e8ce-413b-b99a-470f81523be3",
   "metadata": {},
   "outputs": [
    {
     "data": {
      "text/plain": [
       "tweets  labels  tokd_tweets\n",
       "False   False   False          219294\n",
       "Name: count, dtype: int64"
      ]
     },
     "execution_count": 56,
     "metadata": {},
     "output_type": "execute_result"
    }
   ],
   "source": [
    "dtf.isnull().value_counts()"
   ]
  },
  {
   "cell_type": "markdown",
   "id": "e7d1f9df-a8ec-47c7-9196-3dc6aa82383b",
   "metadata": {},
   "source": [
    "Out of the 219294 entries, there is no presence of null values in the dataset."
   ]
  },
  {
   "cell_type": "markdown",
   "id": "622aa27a-29db-400b-9dbd-c69ebaf48f60",
   "metadata": {},
   "source": [
    "#### Checking for NaN values"
   ]
  },
  {
   "cell_type": "code",
   "execution_count": 5,
   "id": "45c8cd02-daa3-41c9-a47c-d468fde36c6d",
   "metadata": {},
   "outputs": [
    {
     "data": {
      "text/plain": [
       "Unnamed: 0    0\n",
       "tweets        0\n",
       "labels        0\n",
       "dtype: int64"
      ]
     },
     "execution_count": 5,
     "metadata": {},
     "output_type": "execute_result"
    }
   ],
   "source": [
    "dtf.isna().sum() #The isna function checks whether the dataset contain any NaN values."
   ]
  },
  {
   "cell_type": "markdown",
   "id": "fbd3fbb2-986f-4971-9939-3c1458a19599",
   "metadata": {},
   "source": [
    "There aren't any NaN values in the dataset."
   ]
  },
  {
   "cell_type": "markdown",
   "id": "d7f84a05-91c4-4ec0-9203-df7f469a45d3",
   "metadata": {},
   "source": [
    "#### Checking for duplicated items"
   ]
  },
  {
   "cell_type": "code",
   "execution_count": 6,
   "id": "b9315fdb-f266-431e-bf87-311150f5c7e9",
   "metadata": {},
   "outputs": [
    {
     "data": {
      "text/plain": [
       "False    219294\n",
       "Name: count, dtype: int64"
      ]
     },
     "execution_count": 6,
     "metadata": {},
     "output_type": "execute_result"
    }
   ],
   "source": [
    "dtf.duplicated().value_counts() #The duplicated function checks for duplicated items in the dataset. The value_counts function returns the no. of duplicated items."
   ]
  },
  {
   "cell_type": "markdown",
   "id": "b58c45d8-92c7-4d4c-ac11-64bdd536d396",
   "metadata": {},
   "source": [
    "There are no duplicated values in our dataset."
   ]
  },
  {
   "cell_type": "markdown",
   "id": "ff35625c-9eeb-4a6a-8345-09fc33f3fd7b",
   "metadata": {},
   "source": [
    "### Explanatory Data Exploration"
   ]
  },
  {
   "cell_type": "markdown",
   "id": "88e26b1d-fff7-4ccc-a603-ff1325022d40",
   "metadata": {},
   "source": [
    "Since the index column doesn't provide any relative information for sentiment analysis, we will remove the unnamed index column."
   ]
  },
  {
   "cell_type": "code",
   "execution_count": 7,
   "id": "ec4b9fd1-4187-4c61-9224-a1e0804e5b3b",
   "metadata": {},
   "outputs": [
    {
     "data": {
      "text/html": [
       "<div>\n",
       "<style scoped>\n",
       "    .dataframe tbody tr th:only-of-type {\n",
       "        vertical-align: middle;\n",
       "    }\n",
       "\n",
       "    .dataframe tbody tr th {\n",
       "        vertical-align: top;\n",
       "    }\n",
       "\n",
       "    .dataframe thead th {\n",
       "        text-align: right;\n",
       "    }\n",
       "</style>\n",
       "<table border=\"1\" class=\"dataframe\">\n",
       "  <thead>\n",
       "    <tr style=\"text-align: right;\">\n",
       "      <th></th>\n",
       "      <th>tweets</th>\n",
       "      <th>labels</th>\n",
       "    </tr>\n",
       "  </thead>\n",
       "  <tbody>\n",
       "    <tr>\n",
       "      <th>0</th>\n",
       "      <td>ChatGPT: Optimizing Language Models for Dialog...</td>\n",
       "      <td>neutral</td>\n",
       "    </tr>\n",
       "    <tr>\n",
       "      <th>1</th>\n",
       "      <td>Try talking with ChatGPT, our new AI system wh...</td>\n",
       "      <td>good</td>\n",
       "    </tr>\n",
       "    <tr>\n",
       "      <th>2</th>\n",
       "      <td>ChatGPT: Optimizing Language Models for Dialog...</td>\n",
       "      <td>neutral</td>\n",
       "    </tr>\n",
       "    <tr>\n",
       "      <th>3</th>\n",
       "      <td>THRILLED to share that ChatGPT, our new model ...</td>\n",
       "      <td>good</td>\n",
       "    </tr>\n",
       "    <tr>\n",
       "      <th>4</th>\n",
       "      <td>As of 2 minutes ago, @OpenAI released their ne...</td>\n",
       "      <td>bad</td>\n",
       "    </tr>\n",
       "  </tbody>\n",
       "</table>\n",
       "</div>"
      ],
      "text/plain": [
       "                                              tweets   labels\n",
       "0  ChatGPT: Optimizing Language Models for Dialog...  neutral\n",
       "1  Try talking with ChatGPT, our new AI system wh...     good\n",
       "2  ChatGPT: Optimizing Language Models for Dialog...  neutral\n",
       "3  THRILLED to share that ChatGPT, our new model ...     good\n",
       "4  As of 2 minutes ago, @OpenAI released their ne...      bad"
      ]
     },
     "execution_count": 7,
     "metadata": {},
     "output_type": "execute_result"
    }
   ],
   "source": [
    "dtf = dtf.drop(columns = ['Unnamed: 0'], axis =1) #Dropping the unnamed index column\n",
    "dtf.head(5)"
   ]
  },
  {
   "cell_type": "markdown",
   "id": "b07cc4ac-fdbf-46f5-9f04-78edabfec071",
   "metadata": {},
   "source": [
    "#### Calculating total no. of entries for each label."
   ]
  },
  {
   "cell_type": "code",
   "execution_count": 8,
   "id": "3f285818-fa2d-4967-b57f-91e798e84499",
   "metadata": {},
   "outputs": [
    {
     "data": {
      "text/plain": [
       "labels\n",
       "bad        107796\n",
       "good        56011\n",
       "neutral     55487\n",
       "Name: count, dtype: int64"
      ]
     },
     "execution_count": 8,
     "metadata": {},
     "output_type": "execute_result"
    }
   ],
   "source": [
    "labels_cts = dtf['labels'].value_counts() #value.counts() function counts the values for each feature in the labels column\n",
    "labels_cts"
   ]
  },
  {
   "cell_type": "markdown",
   "id": "1535d782-8adf-4af0-98df-918eafb22cd5",
   "metadata": {},
   "source": [
    "The output above shows that around 50% of the users have had bad experience from ChatGPT or doesn't support the use of ChatGPT. The values for good and neutral labels are close to each other making around 25% each of the total counts. From this, we can cleary say that the dataset is an imbalanced dataset."
   ]
  },
  {
   "cell_type": "markdown",
   "id": "2c4279a8-2b98-40e4-929b-d6ac9ddc38d9",
   "metadata": {},
   "source": [
    "### Data Pre-processing"
   ]
  },
  {
   "cell_type": "markdown",
   "id": "4248b84b-cffd-4876-86cd-bca1b17b3c18",
   "metadata": {},
   "source": [
    "##### Changing categorical datatype into numerical datatype"
   ]
  },
  {
   "cell_type": "code",
   "execution_count": 9,
   "id": "72eff7d0-adc3-4524-9e61-c1182ae2229d",
   "metadata": {},
   "outputs": [
    {
     "data": {
      "text/html": [
       "<div>\n",
       "<style scoped>\n",
       "    .dataframe tbody tr th:only-of-type {\n",
       "        vertical-align: middle;\n",
       "    }\n",
       "\n",
       "    .dataframe tbody tr th {\n",
       "        vertical-align: top;\n",
       "    }\n",
       "\n",
       "    .dataframe thead th {\n",
       "        text-align: right;\n",
       "    }\n",
       "</style>\n",
       "<table border=\"1\" class=\"dataframe\">\n",
       "  <thead>\n",
       "    <tr style=\"text-align: right;\">\n",
       "      <th></th>\n",
       "      <th>tweets</th>\n",
       "      <th>labels</th>\n",
       "    </tr>\n",
       "  </thead>\n",
       "  <tbody>\n",
       "    <tr>\n",
       "      <th>0</th>\n",
       "      <td>ChatGPT: Optimizing Language Models for Dialog...</td>\n",
       "      <td>1</td>\n",
       "    </tr>\n",
       "    <tr>\n",
       "      <th>1</th>\n",
       "      <td>Try talking with ChatGPT, our new AI system wh...</td>\n",
       "      <td>2</td>\n",
       "    </tr>\n",
       "    <tr>\n",
       "      <th>2</th>\n",
       "      <td>ChatGPT: Optimizing Language Models for Dialog...</td>\n",
       "      <td>1</td>\n",
       "    </tr>\n",
       "    <tr>\n",
       "      <th>3</th>\n",
       "      <td>THRILLED to share that ChatGPT, our new model ...</td>\n",
       "      <td>2</td>\n",
       "    </tr>\n",
       "    <tr>\n",
       "      <th>4</th>\n",
       "      <td>As of 2 minutes ago, @OpenAI released their ne...</td>\n",
       "      <td>0</td>\n",
       "    </tr>\n",
       "  </tbody>\n",
       "</table>\n",
       "</div>"
      ],
      "text/plain": [
       "                                              tweets  labels\n",
       "0  ChatGPT: Optimizing Language Models for Dialog...       1\n",
       "1  Try talking with ChatGPT, our new AI system wh...       2\n",
       "2  ChatGPT: Optimizing Language Models for Dialog...       1\n",
       "3  THRILLED to share that ChatGPT, our new model ...       2\n",
       "4  As of 2 minutes ago, @OpenAI released their ne...       0"
      ]
     },
     "execution_count": 9,
     "metadata": {},
     "output_type": "execute_result"
    }
   ],
   "source": [
    "#Changing the values of labels using replace function\n",
    "dtf['labels'] = dtf['labels'].replace({'good': 2, 'neutral':1, 'bad': 0})\n",
    "dtf.head(5)"
   ]
  },
  {
   "cell_type": "markdown",
   "id": "b64534e6-73ed-41e8-aca9-5e859aff251f",
   "metadata": {},
   "source": [
    "##### Lowercasing the characters of tweets column for better analysis"
   ]
  },
  {
   "cell_type": "code",
   "execution_count": 10,
   "id": "823f0753-5f60-4cfc-a572-ed9ca5812e9f",
   "metadata": {},
   "outputs": [
    {
     "data": {
      "text/html": [
       "<div>\n",
       "<style scoped>\n",
       "    .dataframe tbody tr th:only-of-type {\n",
       "        vertical-align: middle;\n",
       "    }\n",
       "\n",
       "    .dataframe tbody tr th {\n",
       "        vertical-align: top;\n",
       "    }\n",
       "\n",
       "    .dataframe thead th {\n",
       "        text-align: right;\n",
       "    }\n",
       "</style>\n",
       "<table border=\"1\" class=\"dataframe\">\n",
       "  <thead>\n",
       "    <tr style=\"text-align: right;\">\n",
       "      <th></th>\n",
       "      <th>tweets</th>\n",
       "      <th>labels</th>\n",
       "    </tr>\n",
       "  </thead>\n",
       "  <tbody>\n",
       "    <tr>\n",
       "      <th>0</th>\n",
       "      <td>chatgpt: optimizing language models for dialog...</td>\n",
       "      <td>1</td>\n",
       "    </tr>\n",
       "    <tr>\n",
       "      <th>1</th>\n",
       "      <td>try talking with chatgpt, our new ai system wh...</td>\n",
       "      <td>2</td>\n",
       "    </tr>\n",
       "    <tr>\n",
       "      <th>2</th>\n",
       "      <td>chatgpt: optimizing language models for dialog...</td>\n",
       "      <td>1</td>\n",
       "    </tr>\n",
       "    <tr>\n",
       "      <th>3</th>\n",
       "      <td>thrilled to share that chatgpt, our new model ...</td>\n",
       "      <td>2</td>\n",
       "    </tr>\n",
       "    <tr>\n",
       "      <th>4</th>\n",
       "      <td>as of 2 minutes ago, @openai released their ne...</td>\n",
       "      <td>0</td>\n",
       "    </tr>\n",
       "  </tbody>\n",
       "</table>\n",
       "</div>"
      ],
      "text/plain": [
       "                                              tweets  labels\n",
       "0  chatgpt: optimizing language models for dialog...       1\n",
       "1  try talking with chatgpt, our new ai system wh...       2\n",
       "2  chatgpt: optimizing language models for dialog...       1\n",
       "3  thrilled to share that chatgpt, our new model ...       2\n",
       "4  as of 2 minutes ago, @openai released their ne...       0"
      ]
     },
     "execution_count": 10,
     "metadata": {},
     "output_type": "execute_result"
    }
   ],
   "source": [
    "#Lowercasing the characters using lambda and str.lower() function\n",
    "dtf = dtf.apply(lambda txt: txt.str.lower() if txt.dtypes == 'object' else txt)\n",
    "dtf.head(5)\n"
   ]
  },
  {
   "cell_type": "markdown",
   "id": "b3ddadf8-1897-4d9d-81e3-ca166b095bea",
   "metadata": {},
   "source": [
    "##### Removing the punctuation and symbols from the text"
   ]
  },
  {
   "cell_type": "code",
   "execution_count": 11,
   "id": "a1a04fb6-6e8f-4a9f-b9c8-14126ed50562",
   "metadata": {},
   "outputs": [
    {
     "data": {
      "text/html": [
       "<div>\n",
       "<style scoped>\n",
       "    .dataframe tbody tr th:only-of-type {\n",
       "        vertical-align: middle;\n",
       "    }\n",
       "\n",
       "    .dataframe tbody tr th {\n",
       "        vertical-align: top;\n",
       "    }\n",
       "\n",
       "    .dataframe thead th {\n",
       "        text-align: right;\n",
       "    }\n",
       "</style>\n",
       "<table border=\"1\" class=\"dataframe\">\n",
       "  <thead>\n",
       "    <tr style=\"text-align: right;\">\n",
       "      <th></th>\n",
       "      <th>tweets</th>\n",
       "      <th>labels</th>\n",
       "    </tr>\n",
       "  </thead>\n",
       "  <tbody>\n",
       "    <tr>\n",
       "      <th>0</th>\n",
       "      <td>chatgpt optimizing language models for dialogu...</td>\n",
       "      <td>1</td>\n",
       "    </tr>\n",
       "    <tr>\n",
       "      <th>1</th>\n",
       "      <td>try talking with chatgpt our new ai system whi...</td>\n",
       "      <td>2</td>\n",
       "    </tr>\n",
       "    <tr>\n",
       "      <th>2</th>\n",
       "      <td>chatgpt optimizing language models for dialogu...</td>\n",
       "      <td>1</td>\n",
       "    </tr>\n",
       "    <tr>\n",
       "      <th>3</th>\n",
       "      <td>thrilled to share that chatgpt our new model o...</td>\n",
       "      <td>2</td>\n",
       "    </tr>\n",
       "    <tr>\n",
       "      <th>4</th>\n",
       "      <td>as of 2 minutes ago openai released their new ...</td>\n",
       "      <td>0</td>\n",
       "    </tr>\n",
       "  </tbody>\n",
       "</table>\n",
       "</div>"
      ],
      "text/plain": [
       "                                              tweets  labels\n",
       "0  chatgpt optimizing language models for dialogu...       1\n",
       "1  try talking with chatgpt our new ai system whi...       2\n",
       "2  chatgpt optimizing language models for dialogu...       1\n",
       "3  thrilled to share that chatgpt our new model o...       2\n",
       "4  as of 2 minutes ago openai released their new ...       0"
      ]
     },
     "execution_count": 11,
     "metadata": {},
     "output_type": "execute_result"
    }
   ],
   "source": [
    "#Removing punctuations and symbols from the \n",
    "dtf['tweets'] = dtf['tweets'].str.translate(str.maketrans('', '', string.punctuation))\n",
    "dtf.head(5)"
   ]
  },
  {
   "cell_type": "markdown",
   "id": "8c99bdad-b2b9-4469-a5d5-844e5a6f42f4",
   "metadata": {},
   "source": [
    "##### Tokenizing the words from the tweets column"
   ]
  },
  {
   "cell_type": "code",
   "execution_count": 12,
   "id": "c7eb3257-f50b-4363-9f13-5c2b53e5a573",
   "metadata": {},
   "outputs": [
    {
     "name": "stdout",
     "output_type": "stream",
     "text": [
      "Tweet 0:\n",
      "Original tweet: chatgpt optimizing language models for dialogue httpstcok9rkrygyyn openai\n",
      "After tokenization:   ['chatgpt', 'optimizing', 'language', 'models', 'for', 'dialogue', 'httpstcok9rkrygyyn', 'openai']\n"
     ]
    }
   ],
   "source": [
    "#Tokenizing the text from tweets column using word_tokenize function\n",
    "dtf['tokd_tweets'] = dtf['tweets'].apply(word_tokenize) #Using word_tokenize function to tokenize the tweets column and store the tokenized tweets in a new column\n",
    "\n",
    "#Displaying the tokenized words of the first row\n",
    "print(f\"Tweet {0}:\")\n",
    "print(\"Original tweet:\", dtf['tweets'].iloc[0]) #iloc[0] refers to the first row\n",
    "print(\"After tokenization:  \", dtf['tokd_tweets'].iloc[0])"
   ]
  },
  {
   "cell_type": "code",
   "execution_count": 13,
   "id": "204d602f-79b2-4bc2-beec-4460bbb1bb3e",
   "metadata": {},
   "outputs": [
    {
     "data": {
      "text/html": [
       "<div>\n",
       "<style scoped>\n",
       "    .dataframe tbody tr th:only-of-type {\n",
       "        vertical-align: middle;\n",
       "    }\n",
       "\n",
       "    .dataframe tbody tr th {\n",
       "        vertical-align: top;\n",
       "    }\n",
       "\n",
       "    .dataframe thead th {\n",
       "        text-align: right;\n",
       "    }\n",
       "</style>\n",
       "<table border=\"1\" class=\"dataframe\">\n",
       "  <thead>\n",
       "    <tr style=\"text-align: right;\">\n",
       "      <th></th>\n",
       "      <th>tweets</th>\n",
       "      <th>labels</th>\n",
       "      <th>tokd_tweets</th>\n",
       "    </tr>\n",
       "  </thead>\n",
       "  <tbody>\n",
       "    <tr>\n",
       "      <th>0</th>\n",
       "      <td>chatgpt optimizing language models for dialogu...</td>\n",
       "      <td>1</td>\n",
       "      <td>[chatgpt, optimizing, language, models, for, d...</td>\n",
       "    </tr>\n",
       "    <tr>\n",
       "      <th>1</th>\n",
       "      <td>try talking with chatgpt our new ai system whi...</td>\n",
       "      <td>2</td>\n",
       "      <td>[try, talking, with, chatgpt, our, new, ai, sy...</td>\n",
       "    </tr>\n",
       "    <tr>\n",
       "      <th>2</th>\n",
       "      <td>chatgpt optimizing language models for dialogu...</td>\n",
       "      <td>1</td>\n",
       "      <td>[chatgpt, optimizing, language, models, for, d...</td>\n",
       "    </tr>\n",
       "  </tbody>\n",
       "</table>\n",
       "</div>"
      ],
      "text/plain": [
       "                                              tweets  labels  \\\n",
       "0  chatgpt optimizing language models for dialogu...       1   \n",
       "1  try talking with chatgpt our new ai system whi...       2   \n",
       "2  chatgpt optimizing language models for dialogu...       1   \n",
       "\n",
       "                                         tokd_tweets  \n",
       "0  [chatgpt, optimizing, language, models, for, d...  \n",
       "1  [try, talking, with, chatgpt, our, new, ai, sy...  \n",
       "2  [chatgpt, optimizing, language, models, for, d...  "
      ]
     },
     "execution_count": 13,
     "metadata": {},
     "output_type": "execute_result"
    }
   ],
   "source": [
    "dtf.head(3) #displays the head after tokenization"
   ]
  },
  {
   "cell_type": "code",
   "execution_count": 14,
   "id": "23647c8f-7653-4b11-87e8-ed556c7a1c91",
   "metadata": {},
   "outputs": [
    {
     "data": {
      "text/html": [
       "<div>\n",
       "<style scoped>\n",
       "    .dataframe tbody tr th:only-of-type {\n",
       "        vertical-align: middle;\n",
       "    }\n",
       "\n",
       "    .dataframe tbody tr th {\n",
       "        vertical-align: top;\n",
       "    }\n",
       "\n",
       "    .dataframe thead th {\n",
       "        text-align: right;\n",
       "    }\n",
       "</style>\n",
       "<table border=\"1\" class=\"dataframe\">\n",
       "  <thead>\n",
       "    <tr style=\"text-align: right;\">\n",
       "      <th></th>\n",
       "      <th>tweets</th>\n",
       "      <th>labels</th>\n",
       "      <th>tokd_tweets</th>\n",
       "    </tr>\n",
       "  </thead>\n",
       "  <tbody>\n",
       "    <tr>\n",
       "      <th>0</th>\n",
       "      <td>chatgpt optimizing language models for dialogu...</td>\n",
       "      <td>1</td>\n",
       "      <td>chatgpt optimizing language models for dialogu...</td>\n",
       "    </tr>\n",
       "    <tr>\n",
       "      <th>1</th>\n",
       "      <td>try talking with chatgpt our new ai system whi...</td>\n",
       "      <td>2</td>\n",
       "      <td>try talking with chatgpt our new ai system whi...</td>\n",
       "    </tr>\n",
       "    <tr>\n",
       "      <th>2</th>\n",
       "      <td>chatgpt optimizing language models for dialogu...</td>\n",
       "      <td>1</td>\n",
       "      <td>chatgpt optimizing language models for dialogu...</td>\n",
       "    </tr>\n",
       "  </tbody>\n",
       "</table>\n",
       "</div>"
      ],
      "text/plain": [
       "                                              tweets  labels  \\\n",
       "0  chatgpt optimizing language models for dialogu...       1   \n",
       "1  try talking with chatgpt our new ai system whi...       2   \n",
       "2  chatgpt optimizing language models for dialogu...       1   \n",
       "\n",
       "                                         tokd_tweets  \n",
       "0  chatgpt optimizing language models for dialogu...  \n",
       "1  try talking with chatgpt our new ai system whi...  \n",
       "2  chatgpt optimizing language models for dialogu...  "
      ]
     },
     "execution_count": 14,
     "metadata": {},
     "output_type": "execute_result"
    }
   ],
   "source": [
    "dtf['tokd_tweets'] = dtf['tokd_tweets'].apply(lambda tokens: ' '.join(tokens)) #Joining the tokens for better display\n",
    "dtf.head(3)"
   ]
  },
  {
   "cell_type": "markdown",
   "id": "d3fb58fa-b9e5-49d5-b4ce-1abcdc0f4d5d",
   "metadata": {},
   "source": [
    "##### Finding the most frquently used words in the tweets"
   ]
  },
  {
   "cell_type": "code",
   "execution_count": 66,
   "id": "33a71c58-f711-4fa7-a249-183e0ee14c55",
   "metadata": {},
   "outputs": [
    {
     "data": {
      "image/png": "[encoded data removed]",
      "text/plain": [
       "<Figure size 1000x800 with 1 Axes>"
      ]
     },
     "metadata": {},
     "output_type": "display_data"
    }
   ],
   "source": [
    "#joining and splitting the tweets after lowercasing and removing the punctuations\n",
    "words = ' '.join(dtf['tokd_tweets']).split()\n",
    "\n",
    "#Counting the frequency of each word using Counter method\n",
    "freq_words = Counter(words)\n",
    "\n",
    "#Retrieving the 15 most common words\n",
    "most_repeated_words = freq_words.most_common(15) \n",
    "\n",
    "#Plotting the most frequent words in a barplot\n",
    "words, freqs = zip(*most_repeated_words)\n",
    "plt.figure(figsize=(10,8))\n",
    "plt.bar(words, freqs, color='green')\n",
    "plt.title(\"Most Frequent Words\")\n",
    "plt.ylabel(\"Frequency of Words\")\n",
    "plt.show()"
   ]
  },
  {
   "cell_type": "markdown",
   "id": "786f839c-2e73-49be-b892-d7b11ce458d0",
   "metadata": {},
   "source": [
    "The most frequently used word in the tweets feature is the word 'chatgpt' followed by the article 'the'. Although, the overall counts of labels 'bad' was much higher, the words that denote negative expression doesn't make it in the top 15 repeated words. Infact the top 15 words don't even include an adjective that would describe ChatGPT(except the word chatgpt) nor does it contain any expressive words."
   ]
  },
  {
   "cell_type": "code",
   "execution_count": 68,
   "id": "cac4c069-37d0-46d7-9f51-87658e22ee4d",
   "metadata": {},
   "outputs": [
    {
     "data": {
      "image/png": "[encoded data removed]",
      "text/plain": [
       "<Figure size 1000x500 with 1 Axes>"
      ]
     },
     "metadata": {},
     "output_type": "display_data"
    }
   ],
   "source": [
    "#Retrieving the lexicons for positive and negative words\n",
    "pst_words = set(opinion_lexicon.positive())\n",
    "neg_words = set(opinion_lexicon.negative())\n",
    "\n",
    "#Combining both to get the sentiment\n",
    "sentiment_words = pst_words.union(neg_words) #Using union function to combine positive and negative words\n",
    "\n",
    "#Filtering sentiment words\n",
    "all_sentiment_words = []\n",
    "stop_words = set(stopwords.words('english'))\n",
    "\n",
    "for tweet in dtf['tokd_tweets']:\n",
    "    tokens = word_tokenize(tweet.lower())\n",
    "    filtered = [word for word in tokens if word.isalpha() and word not in stop_words and word in sentiment_words]\n",
    "    all_sentiment_words.extend(filtered)\n",
    "\n",
    "#Counting the top 20 words with sentiments\n",
    "word_counts = Counter(all_sentiment_words).most_common(20)\n",
    "\n",
    "#Assigning colour for positive and negative words\n",
    "colors = ['green' if word in positive_words else 'red' for word, _ in word_counts] #if it is a positve word - Green, if negative - Red\n",
    "\n",
    "#Plotting the graph\n",
    "words, freqs = zip(*word_counts)\n",
    "plt.figure(figsize=(10, 5))\n",
    "plt.bar(words, freqs, color=colors)\n",
    "plt.title(\"Top 20 Sentiment Words in Tweets\")\n",
    "plt.xlabel(\"Sentiment Words\")\n",
    "plt.ylabel(\"Frequency\")\n",
    "plt.xticks(rotation=45)\n",
    "plt.tight_layout()\n",
    "plt.show()\n"
   ]
  },
  {
   "cell_type": "markdown",
   "id": "428b1ec5-31c3-4c27-bf6c-ffcf5353aee8",
   "metadata": {},
   "source": [
    "From the graph above, it is observed that positive sentiment words appeared more in the tweets with only one negative sentiment word 'wrong' making it to the top 20."
   ]
  },
  {
   "cell_type": "markdown",
   "id": "e451b1e1-7a02-417f-ae9f-69e1966a9b52",
   "metadata": {},
   "source": [
    "##### Defining features and labels"
   ]
  },
  {
   "cell_type": "code",
   "execution_count": 16,
   "id": "814ad9dc-a4b4-4b65-bbad-25170329cb6b",
   "metadata": {},
   "outputs": [],
   "source": [
    "X = dtf['tokd_tweets'] \n",
    "y= dtf['labels']"
   ]
  },
  {
   "cell_type": "markdown",
   "id": "2e7b6bd8-4ff2-456d-82cc-961f8d8ec3cd",
   "metadata": {},
   "source": [
    "##### Splitting the data into train and test datasets"
   ]
  },
  {
   "cell_type": "code",
   "execution_count": 17,
   "id": "c5ac3af6-c529-4947-baae-257c909672bf",
   "metadata": {},
   "outputs": [],
   "source": [
    "#Splitting the data into train and test datasets. 80% of the data will be trained and the remaining 20% data will be assigned for testing\n",
    "X_train, X_test, y_train, y_test = train_test_split(X, y, random_state = 42, test_size = 0.2, stratify =y) #stratify = y, to maintain label distribution, since we have an imbalance dataset"
   ]
  },
  {
   "cell_type": "markdown",
   "id": "9fd5fe4a-6eb8-459d-8c02-51c636d815d2",
   "metadata": {},
   "source": [
    "### Feature Engineering"
   ]
  },
  {
   "cell_type": "markdown",
   "id": "7ad59f82-4262-427e-8fb5-7414b2bb98d0",
   "metadata": {},
   "source": [
    "##### Choosing a Vectorizer"
   ]
  },
  {
   "cell_type": "markdown",
   "id": "88013a89-6620-4e35-82f4-43c2f3cd50df",
   "metadata": {},
   "source": [
    "Although, TF-IDF itself doesn't handle imbalance datasets, it evaluates the importance of word to a document in relevance to the whole corpus. It addresses feature extraction by converting text into numeric features without addressing class distribution. It minimizes the influence of stopwords and gives more importance to the terms that are informative."
   ]
  },
  {
   "cell_type": "code",
   "execution_count": 18,
   "id": "cbc1d1ba-7bd1-4756-8fec-80d648922ab9",
   "metadata": {},
   "outputs": [],
   "source": [
    "vect = TfidfVectorizer(max_features = 3000) #Since the output matrix will be huge and to avoid system crashing we will just take 3000 frequent tokens\n",
    "X_train_vect = vect.fit_transform(X_train) #fits and transforms X_train\n",
    "X_test_vect = vect.transform(X_test) #only transforms X_test"
   ]
  },
  {
   "cell_type": "code",
   "execution_count": 19,
   "id": "2c637d31-a845-4e73-bb41-c79d9b32a595",
   "metadata": {},
   "outputs": [
    {
     "name": "stdout",
     "output_type": "stream",
     "text": [
      " The shape of X is:  (175435, 3000)\n",
      " The shape of X is:  (43859, 3000)\n"
     ]
    }
   ],
   "source": [
    "#Printing the shapes\n",
    "print(f' The shape of X is: ', X_train_vect.shape)\n",
    "print(f' The shape of X is: ', X_test_vect.shape)"
   ]
  },
  {
   "cell_type": "markdown",
   "id": "1fc5d23c-4d33-4b8a-8d52-2fe4d1d09fe5",
   "metadata": {},
   "source": [
    "Since our dataset is imbalanced, we will use SMOTE to oversample the training datasets which will produce synthetic samples from the minority classes i.e. 'good' and 'neutral'."
   ]
  },
  {
   "cell_type": "markdown",
   "id": "7bf1abac-4930-4034-815b-5f18dca50821",
   "metadata": {},
   "source": [
    "##### Oversampling the data using SMOTE"
   ]
  },
  {
   "cell_type": "code",
   "execution_count": 20,
   "id": "9a142d17-f966-4872-88a6-80b5f1525353",
   "metadata": {},
   "outputs": [],
   "source": [
    "#Assigning variable for SMOTE function \n",
    "smote1 = SMOTE(random_state=42)\n",
    "new_X_train, new_y_train = smote1.fit_resample(X_train_vect, y_train) #Resampling the train and test datasets"
   ]
  },
  {
   "cell_type": "markdown",
   "id": "ebb98efa-e7f2-4d42-8d79-6a7a717812f0",
   "metadata": {},
   "source": [
    "### Training the Models"
   ]
  },
  {
   "cell_type": "code",
   "execution_count": 21,
   "id": "95aeaeb4-4f87-46d4-b37b-1d0397d8a5a5",
   "metadata": {},
   "outputs": [
    {
     "name": "stdout",
     "output_type": "stream",
     "text": [
      "The evaluation metrics for the models:\n",
      "               Model  Accuracy  Precision    Recall  F1-Score\n",
      "0      Decision Tree  0.703322   0.707989  0.703322  0.705356\n",
      "1      Random Forest  0.734239   0.727479  0.734239  0.728247\n",
      "2  Gradient Boosting  0.665929   0.662427  0.665929  0.660830\n"
     ]
    }
   ],
   "source": [
    "#Creating a dictionary of models\n",
    "mods = {\n",
    "    \"Decision Tree\": DecisionTreeClassifier(random_state=42),\n",
    "    \"Random Forest\": RandomForestClassifier(random_state=42),\n",
    "    \"Gradient Boosting\": GradientBoostingClassifier(random_state=42)\n",
    "}\n",
    "\n",
    "rslts = [] #to store result for each model\n",
    "\n",
    "for model_name, model in mods.items():\n",
    "    #Training the models on resampled training data\n",
    "    model.fit(new_X_train, new_y_train)\n",
    "    \n",
    "    #Making Predictions\n",
    "    y_pred = model.predict(X_test_vect) #since the models expect numerical feature vectors, we have provided X_test_vect instead of X_test for predictions\n",
    "    \n",
    "    #Calculating the metrics\n",
    "    acc = accuracy_score(y_test, y_pred)\n",
    "    prec = precision_score(y_test, y_pred, average='weighted')\n",
    "    rec = recall_score(y_test, y_pred, average='weighted')\n",
    "    f1 = f1_score(y_test, y_pred, average='weighted')\n",
    "    \n",
    "    #Appending the result metrics\n",
    "    rslts.append({\n",
    "        \"Model\": model_name,\n",
    "        \"Accuracy\": acc,\n",
    "        \"Precision\": prec,\n",
    "        \"Recall\": rec,\n",
    "        \"F1-Score\": f1\n",
    "    })\n",
    "\n",
    "#Creating a new dataframe that displays the results\n",
    "results_df = pd.DataFrame(rslts)\n",
    "\n",
    "#Printing the results\n",
    "print(f'The evaluation metrics for the models:')\n",
    "print(results_df)\n"
   ]
  },
  {
   "cell_type": "markdown",
   "id": "a2befebd-8133-4113-89be-f9be6234506c",
   "metadata": {},
   "source": [
    "For this particular imbalanced dataset, we will emphasize more on F1 score because it balances both Precision and Recall.\n",
    "* Accuracy - It is generally used when the dataset is a balanced one. It is based upon the total correct predictions of all the predictions it makes.\n",
    "* Precision - It checks how many positive predictions are actually correct. It minimizes the False Positive predictions. eg. spam detection in emails, fraud detection in banking transactions\n",
    "* Recall - Missing a true positive could be costly. So, unlike Precision, it compares with actual positive values that are correctly identified by the model. eg. search engine, medical diagnosis.\n",
    "* F1 - It is the harmonic mean of Precision and Recall. It gives a balanced value when considering both False Positives and False Negatives"
   ]
  },
  {
   "cell_type": "markdown",
   "id": "03e18796-951c-4b08-acd0-a2f94e52adc8",
   "metadata": {},
   "source": [
    "The output above shows that Random Forest Classifier yielded the highest F1-Score of 0.728 followed by Decision Tree Classifier 0.705 and Gradient Boosting with the lowest F1-Score of 0.660. We will check whether fine tuning the hyperparameters of Random Forest Classifer yield better results."
   ]
  },
  {
   "cell_type": "markdown",
   "id": "8bfc0590-c403-4ff3-a4a9-301377e974d4",
   "metadata": {},
   "source": [
    "#### Fine-Tuning the Hyper-parameters"
   ]
  },
  {
   "cell_type": "markdown",
   "id": "1a3a3270-853b-408f-90d0-18368af93df8",
   "metadata": {},
   "source": [
    "We will use RandomizedSearchCV to tune the hyperparameters of Random Forest Classifier to achieve better result. Although GridSearchCV may produce better results than RandomizedSearchCV, considering a huge parameter grid, fast processing and achieving a better result if not the best; RandomizedSearchCV does it better."
   ]
  },
  {
   "cell_type": "markdown",
   "id": "1ef768de-682f-4cfb-96ca-06501265bc47",
   "metadata": {},
   "source": [
    "Setting n_estimators to 10, min_samples_split to 3 and without defining cross validation, we got F1-Score of 0.694 which was lesser than the previous output of 0.72, so we will increase the no. of variables for these parameters and also add iterations to check whether the F1-Score increases or not. However, the biggest drawback of using these parameters is time. Training RandomForestClassifier with these parameters takes a lot of time to process. "
   ]
  },
  {
   "cell_type": "code",
   "execution_count": 38,
   "id": "6e902414-030f-4b19-8779-e73a4bdf3ba3",
   "metadata": {},
   "outputs": [
    {
     "name": "stdout",
     "output_type": "stream",
     "text": [
      "Fitting 5 folds for each of 8 candidates, totalling 40 fits\n",
      "Best Hyperparameters:\n",
      " {'n_estimators': 100, 'min_samples_split': 3, 'max_depth': None, 'class_weight': 'balanced'}\n",
      "The Weighted F1-Score after tuning Random Forest: 0.7295\n"
     ]
    }
   ],
   "source": [
    "#Defining the parameter grid\n",
    "param_grid = {\n",
    "    'n_estimators': [50, 100],\n",
    "    'class_weight': ['balanced'],  #class weight for imbalanced classes\n",
    "    'max_depth': [None, 10],\n",
    "    'min_samples_split': [3, 5]\n",
    "}\n",
    "\n",
    "#Selecting Random Forest Classifier model\n",
    "rfc = RandomForestClassifier(random_state=42, warm_start=True) #choosing Random Forest Classifier model as our estimator\n",
    "\n",
    "#Assigning StratifiedKFold for cross validation\n",
    "cv = StratifiedKFold(n_splits=5, shuffle=True, random_state=42)  #cross-validation using SratifiedKFold is better for imbalance dataset\n",
    "\n",
    "#Initializing the model\n",
    "rfc_random_search = RandomizedSearchCV(\n",
    "    estimator=rfc, \n",
    "    param_distributions=param_grid,\n",
    "    n_iter=20,  #No. of iterations\n",
    "    cv = cv,\n",
    "    verbose=2,\n",
    "    random_state=42,\n",
    "    n_jobs=-1, # to use all the CPU cores for parallel processing\n",
    "    scoring='f1_weighted' #to choose best parameters based on F1 score\n",
    ")\n",
    "\n",
    "#Fitting the model on the training data\n",
    "rfc_random_search.fit(new_X_train, new_y_train)\n",
    "\n",
    "#Printing best hyperparameters\n",
    "print(\"Best Hyperparameters:\\n\", rfc_random_search.best_params_)\n",
    "\n",
    "#Evaluating the best model on test data\n",
    "best_rf = rfc_random_search.best_estimator_\n",
    "y_pred_best = best_rf.predict(X_test_vect)\n",
    "\n",
    "#Calculating and printing the weighted F1-score\n",
    "f1_s = f1_score(y_test, y_pred_best, average='weighted')\n",
    "print(f\"The Weighted F1-Score after tuning Random Forest: {f1_s:.4f}\")\n"
   ]
  },
  {
   "cell_type": "markdown",
   "id": "2c1f229b-e234-4678-a90a-5683d347429f",
   "metadata": {},
   "source": [
    "From the output above, we can see that the weighted F1-Score didn't increase much and we can't consider it the optimal score. The best hyperparameters are :\n",
    "* n_estimators: 100\n",
    "* min_samples_split: 3\n",
    "* max_depth: None\n",
    "* class_weight: balanced"
   ]
  },
  {
   "cell_type": "markdown",
   "id": "a3278f32-462e-433a-9dce-905533a69803",
   "metadata": {},
   "source": [
    "Since, we couldn't get a better F1-Score, let us train the datasets using a much simpler model. i.e Logistic Regression, and check whether it gets a better output."
   ]
  },
  {
   "cell_type": "markdown",
   "id": "fdbc1c55-4c0e-4500-a006-b6d49c5a4a40",
   "metadata": {},
   "source": [
    "##### Checking if Logistic Regression performs better"
   ]
  },
  {
   "cell_type": "markdown",
   "id": "b92067c5-e9ca-40f2-ad67-cfd5e162b81a",
   "metadata": {},
   "source": [
    "Although Logistic Regression is the simplest among all these models in terms of complexity level and performance on imbalanced dataset, let us apply this model and see if we can get a better score."
   ]
  },
  {
   "cell_type": "code",
   "execution_count": 44,
   "id": "d17aa20c-c5a9-49fa-857b-9232aa818a2b",
   "metadata": {},
   "outputs": [
    {
     "name": "stdout",
     "output_type": "stream",
     "text": [
      "The Weighted F1 Score for Logistic Regression is: 0.7897\n"
     ]
    }
   ],
   "source": [
    "#Initializing Logistic Regression model\n",
    "logr_model = LogisticRegression(random_state=42, max_iter=1000)\n",
    "\n",
    "#Training on resampled data\n",
    "logr_model.fit(new_X_train, new_y_train)\n",
    "\n",
    "#Making Predictions\n",
    "y_pred1 = log_reg.predict(X_test_vect)\n",
    "\n",
    "#Calculating F-1 Score\n",
    "f1score = f1_score(y_test, y_pred, average='weighted')\n",
    "\n",
    "print(f'The Weighted F1 Score for Logistic Regression is: {f1score:.4f}')"
   ]
  },
  {
   "cell_type": "markdown",
   "id": "67d4840a-0a3b-433d-bdb8-089f123a23be",
   "metadata": {},
   "source": [
    "Since, the Logistic Regression yeilded better score of 0.78 than the previous models, we will fine tune it and check whether the scoer improves or not."
   ]
  },
  {
   "cell_type": "code",
   "execution_count": 54,
   "id": "420eb622-9000-4f28-83a9-3bc2cc61de0c",
   "metadata": {},
   "outputs": [
    {
     "name": "stdout",
     "output_type": "stream",
     "text": [
      "The best hyperparameters for fine tuning are: {'C': 100, 'class_weight': 'balanced', 'max_iter': 1000, 'multi_class': 'multinomial', 'penalty': 'l2', 'random_state': 42, 'solver': 'saga'}\n",
      "Logistic Regression Weighted F1 Score after fine tuning: 0.8014\n"
     ]
    }
   ],
   "source": [
    "#Defining parameter grid\n",
    "param_grid = {\n",
    "    'C': [0.1, 1, 10, 100],            #to find optimum strength for Inverse of Regularization strength\n",
    "    'solver':['saga', 'lbfgs', 'newton-cg'],           #to handle large, sparse data.\n",
    "    'penalty':['l2'],            #Applying Ridge Regularization to reduce coefficients\n",
    "    'class_weight':['balanced'],  #helps with class imbalance\n",
    "    'multi_class':['multinomial'], #to handle multiclass i.e. 0, 1 and 2 class labels\n",
    "    'max_iter':[1000, 2000], #making iterations\n",
    "    'random_state':[42]          \n",
    "}\n",
    "\n",
    "#Initializing Logistic Regression model\n",
    "logr_model1 = LogisticRegression(random_state=42)\n",
    "\n",
    "#Choosing GridSearchCV for fine tuning\n",
    "grid_search = GridSearchCV(logr_model1, param_grid, scoring='f1_weighted', cv=3, n_jobs=-1)\n",
    "\n",
    "#Fitting the train data\n",
    "grid_search.fit(new_X_train, new_y_train)\n",
    "\n",
    "#Finding the best estimator\n",
    "best_estr = grid_search.best_estimator_\n",
    "\n",
    "#Making predictions\n",
    "y_pred2 = best_estr.predict(X_test_vect)\n",
    "\n",
    "#Calculating the weighted F1 score\n",
    "f1score1 = f1_score(y_test, y_pred2, average='weighted')\n",
    "\n",
    "#Printing the results\n",
    "print(f'The best hyperparameters for fine tuning are: {grid_search.best_params_}')\n",
    "print(f'Logistic Regression Weighted F1 Score after fine tuning: {f1score1:.4f}')\n"
   ]
  },
  {
   "cell_type": "markdown",
   "id": "8654fcb7-715d-49df-b2f9-fd6bf0993ef4",
   "metadata": {},
   "source": [
    "Surprisingly, after fine-tuning the hyperparameters, the F1-Score increased to 0.80. This means that for this particular sentiment analysis, Logistic Regression outperforms all other complex models"
   ]
  },
  {
   "cell_type": "markdown",
   "id": "cb0e08e5-191d-4e88-9bdf-5fd499cee6ec",
   "metadata": {},
   "source": [
    "### Conclusion"
   ]
  },
  {
   "cell_type": "markdown",
   "id": "75f194df-af89-4d1a-a120-567eee661f3c",
   "metadata": {},
   "source": [
    "Although the most simplest models among the 4, it is observed that Logistic Regression outperformed all the other models after oversampling the vectorized dataset as it handled the sparse data conveniently. Undersampling the data could have given the result in favour of other complex models as they underperfom on noisy datasets whereas Logistic Regression handles overfitting of the data due to its tolerance to sparse features.\n",
    "\n",
    "A key takeaway from the output of these models is \"a simple model can out-perform complex models if the hyper-parameters are fine tuned properly\".\n",
    "\n",
    "Regarding the dataset, the data imbalance may have occur due to presence of 'bogus' or 'fabricated' tweets from the users. The labels and the tweets may have been randomly posted to boost the negative performance of ChatGPT. In future, only genuine reviews must be included in the dataset to build a robust NLP pipeline.\n",
    "\n",
    "In consideration to genuine negative feedbacks, the company must take into accounts of these reviews and apply necessary changes to the platform to improve user experience and satisfaction. The company must also develop a NLP pipeline to detect the feedbacks based on sentiments and automatically label them to create a balanced dataset for further analysis and making improvements."
   ]
  }
 ],
 "metadata": {
  "kernelspec": {
   "display_name": "Python 3.11",
   "language": "python",
   "name": "py311"
  },
  "language_info": {
   "codemirror_mode": {
    "name": "ipython",
    "version": 3
   },
   "file_extension": ".py",
   "mimetype": "text/x-python",
   "name": "python",
   "nbconvert_exporter": "python",
   "pygments_lexer": "ipython3",
   "version": "3.11.13"
  }
 },
 "nbformat": 4,
 "nbformat_minor": 5
}
